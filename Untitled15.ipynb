{
 "cells": [
  {
   "cell_type": "code",
   "execution_count": 1,
   "id": "91325ac2-ad09-4c04-bea4-739a821a351f",
   "metadata": {},
   "outputs": [],
   "source": [
    "#Question 1\n",
    "# a = [10, 20, 30, 20, 40, 50]\n",
    "# Remove the first occurance of 20\n",
    "a = [10, 20, 30, 20, 40, 50]\n",
    "a.remove(20)"
   ]
  },
  {
   "cell_type": "code",
   "execution_count": 2,
   "id": "aebd519a-af75-4e22-84dd-2b248ce6ea77",
   "metadata": {},
   "outputs": [
    {
     "data": {
      "text/plain": [
       "[10, 30, 20, 40, 50]"
      ]
     },
     "execution_count": 2,
     "metadata": {},
     "output_type": "execute_result"
    }
   ],
   "source": [
    "a"
   ]
  },
  {
   "cell_type": "code",
   "execution_count": 4,
   "id": "08e885cc-e915-4da8-9467-d6c335a195f8",
   "metadata": {},
   "outputs": [
    {
     "name": "stdout",
     "output_type": "stream",
     "text": [
      "20\n"
     ]
    }
   ],
   "source": [
    "# Question 2\n",
    "# Remove element at index 1 and return its value in val\n",
    "a = [10, 20, 30, 20, 40, 50]\n",
    "x=a.pop(1)\n",
    "print(x)"
   ]
  },
  {
   "cell_type": "code",
   "execution_count": 5,
   "id": "57f816cb-a28b-467a-a601-100b0ed29bf3",
   "metadata": {},
   "outputs": [
    {
     "name": "stdout",
     "output_type": "stream",
     "text": [
      "[10, 50, 60, 70]\n"
     ]
    }
   ],
   "source": [
    "# Question 3\n",
    "# a = [10, 20, 30, 40, 50, 60, 70]\n",
    "# Removes elements from index 1 to index 3 (which are 20, 30, 40)\n",
    "a = [10, 20, 30, 40, 50, 60, 70]\n",
    "for i in range(3,0,-1):   # start from 3 to 0(execluded) and -1 step\n",
    "    a.pop(i)\n",
    "    \n",
    "print(a)"
   ]
  },
  {
   "cell_type": "code",
   "execution_count": 7,
   "id": "21c23a44-e106-4648-9526-02a387f401d5",
   "metadata": {},
   "outputs": [
    {
     "name": "stdout",
     "output_type": "stream",
     "text": [
      "[]\n"
     ]
    }
   ],
   "source": [
    "# Question 4\n",
    "# a = [10, 20, 30, 40, 50, 60, 70]\n",
    "# Remove all elements\n",
    "a = [10, 20, 30, 40, 50, 60, 70]\n",
    "a.clear()\n",
    "print(a)"
   ]
  },
  {
   "cell_type": "code",
   "execution_count": 8,
   "id": "ec0f9d7d-d9cf-4b0d-9ed8-9770c30ccdde",
   "metadata": {},
   "outputs": [
    {
     "name": "stdin",
     "output_type": "stream",
     "text": [
      "enter binary number 001\n"
     ]
    },
    {
     "name": "stdout",
     "output_type": "stream",
     "text": [
      "decimal is 1\n"
     ]
    }
   ],
   "source": [
    "# application to take a number in binary form from the user, and print it as a decimal\n",
    "bin = input(\"enter binary number\")\n",
    "dec= int(bin,2)\n",
    "print(f\"decimal is {dec}\")"
   ]
  },
  {
   "cell_type": "code",
   "execution_count": 13,
   "id": "a0e7aa0f-618f-4e1d-beea-2d64e32e0e22",
   "metadata": {},
   "outputs": [
    {
     "name": "stdin",
     "output_type": "stream",
     "text": [
      "Enter num :   2\n"
     ]
    },
    {
     "name": "stdout",
     "output_type": "stream",
     "text": [
      "not divisable on both 3,5 \n"
     ]
    }
   ],
   "source": [
    "x=int(input(\"Enter num :  \"))\n",
    "\n",
    "if x%3==0 and x%5==0:\n",
    "    print(\"FizzBuzz\")\n",
    "elif x%3==0 :\n",
    "    print(\"Fizz\")\n",
    "elif x%5==0 :\n",
    "    print(\"buzz\")\n",
    "else :\n",
    "    print(\"not divisable on both 3,5 \")\n",
    "    "
   ]
  },
  {
   "cell_type": "code",
   "execution_count": 15,
   "id": "44b424e1-cae0-4bc8-a914-120216e30a61",
   "metadata": {},
   "outputs": [
    {
     "name": "stdin",
     "output_type": "stream",
     "text": [
      "Please enter radius  :  7\n"
     ]
    },
    {
     "name": "stdout",
     "output_type": "stream",
     "text": [
      "Area is 153.93804002589985\n",
      "circumference is 43.982297150257104\n"
     ]
    }
   ],
   "source": [
    "import math\n",
    "r= int(input(\"Please enter radius  : \"))\n",
    "area = math.pi * math.pow(r,2)\n",
    "c = 2*math.pi*r\n",
    "print(f\"Area is {area}\")\n",
    "print(f\"circumference is {c}\")"
   ]
  },
  {
   "cell_type": "code",
   "execution_count": null,
   "id": "770709d5-4451-4893-911c-15d40b6a627a",
   "metadata": {},
   "outputs": [],
   "source": []
  }
 ],
 "metadata": {
  "kernelspec": {
   "display_name": "Python 3 (ipykernel)",
   "language": "python",
   "name": "python3"
  },
  "language_info": {
   "codemirror_mode": {
    "name": "ipython",
    "version": 3
   },
   "file_extension": ".py",
   "mimetype": "text/x-python",
   "name": "python",
   "nbconvert_exporter": "python",
   "pygments_lexer": "ipython3",
   "version": "3.11.7"
  }
 },
 "nbformat": 4,
 "nbformat_minor": 5
}
